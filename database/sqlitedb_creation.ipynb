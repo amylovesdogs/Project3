{
 "cells": [
  {
   "cell_type": "code",
   "execution_count": 83,
   "id": "776c4724",
   "metadata": {},
   "outputs": [],
   "source": [
    "import sqlite3\n",
    "import pandas as pd"
   ]
  },
  {
   "cell_type": "code",
   "execution_count": 84,
   "id": "7314ad79",
   "metadata": {},
   "outputs": [],
   "source": [
    "# load the precinct level competitiveness measurement data\n",
    "pvi_df = pd.read_csv('../static/data/PrecintElectionData.csv')"
   ]
  },
  {
   "cell_type": "code",
   "execution_count": 85,
   "id": "5d670b8f",
   "metadata": {
    "scrolled": true
   },
   "outputs": [],
   "source": [
    "# clean white space\n",
    "pvi_df.columns = pvi_df.columns.str.strip()\n",
    "\n",
    "# create two separate tables from the competitiveness measurement table\n",
    "# one contains political voter index (PVI) information, the other contains election information from\n",
    "# a 2022 county-wide race, deemed the \"generic\" race\n",
    "generic2022_df = pvi_df.copy()\n",
    "pvi_df.drop(['2022 Assessor DEM %', '2022 Assessor REP %'], axis=1, inplace=True)\n",
    "generic2022_df.drop(['PVI DEM', 'PVI REP', 'PVI Other'], axis=1, inplace=True)"
   ]
  },
  {
   "cell_type": "code",
   "execution_count": 86,
   "id": "7dd5f1a6",
   "metadata": {},
   "outputs": [],
   "source": [
    "# clean out empty data rows\n",
    "pvi_df.dropna(how='any',inplace=True)\n",
    "generic2022_df.dropna(how='any',inplace=True)"
   ]
  },
  {
   "cell_type": "code",
   "execution_count": 87,
   "id": "72e88b11",
   "metadata": {},
   "outputs": [
    {
     "data": {
      "text/html": [
       "<div>\n",
       "<style scoped>\n",
       "    .dataframe tbody tr th:only-of-type {\n",
       "        vertical-align: middle;\n",
       "    }\n",
       "\n",
       "    .dataframe tbody tr th {\n",
       "        vertical-align: top;\n",
       "    }\n",
       "\n",
       "    .dataframe thead th {\n",
       "        text-align: right;\n",
       "    }\n",
       "</style>\n",
       "<table border=\"1\" class=\"dataframe\">\n",
       "  <thead>\n",
       "    <tr style=\"text-align: right;\">\n",
       "      <th></th>\n",
       "      <th>Precinct</th>\n",
       "      <th>Current</th>\n",
       "      <th>Alpha</th>\n",
       "      <th>Bravo</th>\n",
       "      <th>2022 Assessor DEM %</th>\n",
       "      <th>2022 Assessor REP %</th>\n",
       "    </tr>\n",
       "  </thead>\n",
       "  <tbody>\n",
       "    <tr>\n",
       "      <th>0</th>\n",
       "      <td>87</td>\n",
       "      <td>3</td>\n",
       "      <td>3</td>\n",
       "      <td>3</td>\n",
       "      <td>62.19</td>\n",
       "      <td>37.81</td>\n",
       "    </tr>\n",
       "    <tr>\n",
       "      <th>1</th>\n",
       "      <td>88</td>\n",
       "      <td>3</td>\n",
       "      <td>3</td>\n",
       "      <td>3</td>\n",
       "      <td>53.85</td>\n",
       "      <td>46.15</td>\n",
       "    </tr>\n",
       "    <tr>\n",
       "      <th>2</th>\n",
       "      <td>89</td>\n",
       "      <td>3</td>\n",
       "      <td>3</td>\n",
       "      <td>3</td>\n",
       "      <td>52.21</td>\n",
       "      <td>47.79</td>\n",
       "    </tr>\n",
       "    <tr>\n",
       "      <th>3</th>\n",
       "      <td>90</td>\n",
       "      <td>4</td>\n",
       "      <td>4</td>\n",
       "      <td>4</td>\n",
       "      <td>50.00</td>\n",
       "      <td>50.00</td>\n",
       "    </tr>\n",
       "    <tr>\n",
       "      <th>4</th>\n",
       "      <td>91</td>\n",
       "      <td>5</td>\n",
       "      <td>5</td>\n",
       "      <td>5</td>\n",
       "      <td>43.40</td>\n",
       "      <td>56.60</td>\n",
       "    </tr>\n",
       "    <tr>\n",
       "      <th>...</th>\n",
       "      <td>...</td>\n",
       "      <td>...</td>\n",
       "      <td>...</td>\n",
       "      <td>...</td>\n",
       "      <td>...</td>\n",
       "      <td>...</td>\n",
       "    </tr>\n",
       "    <tr>\n",
       "      <th>320</th>\n",
       "      <td>810</td>\n",
       "      <td>4</td>\n",
       "      <td>4</td>\n",
       "      <td>4</td>\n",
       "      <td>50.00</td>\n",
       "      <td>50.00</td>\n",
       "    </tr>\n",
       "    <tr>\n",
       "      <th>321</th>\n",
       "      <td>828</td>\n",
       "      <td>4</td>\n",
       "      <td>4</td>\n",
       "      <td>4</td>\n",
       "      <td>21.66</td>\n",
       "      <td>78.34</td>\n",
       "    </tr>\n",
       "    <tr>\n",
       "      <th>322</th>\n",
       "      <td>829</td>\n",
       "      <td>4</td>\n",
       "      <td>4</td>\n",
       "      <td>4</td>\n",
       "      <td>25.64</td>\n",
       "      <td>74.36</td>\n",
       "    </tr>\n",
       "    <tr>\n",
       "      <th>323</th>\n",
       "      <td>839</td>\n",
       "      <td>3</td>\n",
       "      <td>3</td>\n",
       "      <td>3</td>\n",
       "      <td>30.19</td>\n",
       "      <td>69.81</td>\n",
       "    </tr>\n",
       "    <tr>\n",
       "      <th>324</th>\n",
       "      <td>901</td>\n",
       "      <td>5</td>\n",
       "      <td>5</td>\n",
       "      <td>5</td>\n",
       "      <td>44.80</td>\n",
       "      <td>55.20</td>\n",
       "    </tr>\n",
       "  </tbody>\n",
       "</table>\n",
       "<p>323 rows × 6 columns</p>\n",
       "</div>"
      ],
      "text/plain": [
       "     Precinct  Current  Alpha  Bravo  2022 Assessor DEM %  2022 Assessor REP %\n",
       "0          87        3      3      3                62.19                37.81\n",
       "1          88        3      3      3                53.85                46.15\n",
       "2          89        3      3      3                52.21                47.79\n",
       "3          90        4      4      4                50.00                50.00\n",
       "4          91        5      5      5                43.40                56.60\n",
       "..        ...      ...    ...    ...                  ...                  ...\n",
       "320       810        4      4      4                50.00                50.00\n",
       "321       828        4      4      4                21.66                78.34\n",
       "322       829        4      4      4                25.64                74.36\n",
       "323       839        3      3      3                30.19                69.81\n",
       "324       901        5      5      5                44.80                55.20\n",
       "\n",
       "[323 rows x 6 columns]"
      ]
     },
     "execution_count": 87,
     "metadata": {},
     "output_type": "execute_result"
    }
   ],
   "source": [
    "# convert string data to percentage\n",
    "generic2022_df['2022 Assessor DEM %'] = generic2022_df['2022 Assessor DEM %'].str.slice(0,-1).astype(float)\n",
    "generic2022_df['2022 Assessor REP %'] = generic2022_df['2022 Assessor REP %'].str.slice(0,-1).astype(float)\n",
    "generic2022_df"
   ]
  },
  {
   "cell_type": "code",
   "execution_count": 88,
   "id": "3a02dec5",
   "metadata": {},
   "outputs": [],
   "source": [
    "# load the 2020 census information for the 3 maps\n",
    "current_map_df = pd.read_csv('../static/data/current_districts.csv')\n",
    "alpha_map_df = pd.read_csv('../static/data/alpha_districts.csv')\n",
    "bravo_map_df = pd.read_csv('../static/data/bravo_districts.csv')"
   ]
  },
  {
   "cell_type": "code",
   "execution_count": 89,
   "id": "cbb08434",
   "metadata": {},
   "outputs": [],
   "source": [
    "# load county voter registration data\n",
    "voters_df = pd.read_csv('../static/data/RegisteredVoters.csv')"
   ]
  },
  {
   "cell_type": "code",
   "execution_count": 90,
   "id": "be62efb7",
   "metadata": {},
   "outputs": [],
   "source": [
    "conn = sqlite3.connect('redistricting_data.db')"
   ]
  },
  {
   "cell_type": "code",
   "execution_count": 91,
   "id": "673b5df6",
   "metadata": {},
   "outputs": [
    {
     "data": {
      "text/plain": [
       "10"
      ]
     },
     "execution_count": 91,
     "metadata": {},
     "output_type": "execute_result"
    }
   ],
   "source": [
    "# save the dataframes to the sqlite database as tables\n",
    "pvi_df.to_sql('pvi', conn, if_exists='replace', index = False)\n",
    "generic2022_df.to_sql('generic2022', conn, if_exists='replace', index = False)\n",
    "current_map_df.to_sql('currentmap', conn, if_exists='replace', index = False)\n",
    "alpha_map_df.to_sql('alphamap', conn, if_exists='replace', index = False)\n",
    "bravo_map_df.to_sql('bravomap', conn, if_exists='replace', index = False)\n",
    "voters_df.to_sql('voters', conn, if_exists='replace', index = False)"
   ]
  },
  {
   "cell_type": "code",
   "execution_count": 92,
   "id": "9a361fa8",
   "metadata": {},
   "outputs": [],
   "source": [
    "conn.close()"
   ]
  },
  {
   "cell_type": "code",
   "execution_count": null,
   "id": "0f5c945c",
   "metadata": {},
   "outputs": [],
   "source": []
  }
 ],
 "metadata": {
  "kernelspec": {
   "display_name": "Python 3 (ipykernel)",
   "language": "python",
   "name": "python3"
  },
  "language_info": {
   "codemirror_mode": {
    "name": "ipython",
    "version": 3
   },
   "file_extension": ".py",
   "mimetype": "text/x-python",
   "name": "python",
   "nbconvert_exporter": "python",
   "pygments_lexer": "ipython3",
   "version": "3.9.13"
  }
 },
 "nbformat": 4,
 "nbformat_minor": 5
}
