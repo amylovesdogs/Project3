{
 "cells": [
  {
   "cell_type": "markdown",
   "id": "ac10352b",
   "metadata": {},
   "source": [
    "### Project 3: Prepare the District Level Census Summary Data\n",
    "---\n",
    "* Gleans data out of geojson files\n",
    "* Saves data to csv files in preparation for creating the database"
   ]
  },
  {
   "cell_type": "code",
   "execution_count": 2,
   "id": "aed5f71b",
   "metadata": {},
   "outputs": [],
   "source": [
    "import pandas as pd\n",
    "import json"
   ]
  },
  {
   "cell_type": "code",
   "execution_count": 3,
   "id": "815bd178",
   "metadata": {},
   "outputs": [],
   "source": [
    "with open('../static/data/2017-CC-districts.geojson') as f:\n",
    "   cc_districts = json.load(f)\n",
    "\n",
    "with open('../static/data/alpha-CC-districts.geojson') as f:\n",
    "   alpha = json.load(f)\n",
    "\n",
    "with open('../static/data/bravo-CC-districts.geojson') as f:\n",
    "   bravo = json.load(f)"
   ]
  },
  {
   "cell_type": "code",
   "execution_count": 4,
   "id": "4e1dc40c",
   "metadata": {},
   "outputs": [],
   "source": [
    "district_maps = [cc_districts, alpha, bravo]\n",
    "district_names = ['current','alpha','bravo']"
   ]
  },
  {
   "cell_type": "code",
   "execution_count": 5,
   "id": "95f72fc0",
   "metadata": {},
   "outputs": [],
   "source": [
    "# pull the data of interest from the geojson files and put it in dataframes\n",
    "map_list = []\n",
    "for district_map in district_maps:\n",
    "    features = district_map['features']\n",
    "    district_list = []\n",
    "    for district in features:\n",
    "        district_info = {\n",
    "            'id': district['properties']['id'],\n",
    "            'name': 'District ' + district['properties']['NAME'],\n",
    "            'TotalPop': district['properties']['TotalPop'],\n",
    "            'PopDevPct': district['properties']['PopDevPct'],\n",
    "            'DemPct': district['properties']['DemPct'],\n",
    "            'RepPct': district['properties']['RepPct'],\n",
    "            'WhitePct': district['properties']['WhitePct'],\n",
    "            'MinorityPct': district['properties']['MinorityPct'],\n",
    "            'BlackPct': district['properties']['BlackPct'],\n",
    "            'HispanicPct': district['properties']['HispanicPct'],\n",
    "            'PacificPct': district['properties']['PacificPct'],\n",
    "            'AsianPct': district['properties']['AsianPct'],\n",
    "            'NativePct': district['properties']['NativePct'],\n",
    "            'TotalVAP': district['properties']['TotalVAP']\n",
    "        }\n",
    "        district_list.append(district_info)\n",
    "    map_list.append(pd.DataFrame(district_list))"
   ]
  },
  {
   "cell_type": "code",
   "execution_count": 7,
   "id": "050131ed",
   "metadata": {},
   "outputs": [],
   "source": [
    "map_list[0].to_csv('../static/data/current_districts.csv', encoding='utf-8', index=False)"
   ]
  },
  {
   "cell_type": "code",
   "execution_count": 8,
   "id": "46e912da",
   "metadata": {},
   "outputs": [],
   "source": [
    "map_list[1].to_csv('../static/data/alpha_districts.csv', encoding='utf-8', index=False)"
   ]
  },
  {
   "cell_type": "code",
   "execution_count": 9,
   "id": "1fc7e662",
   "metadata": {},
   "outputs": [],
   "source": [
    "map_list[2].to_csv('../static/data/bravo_districts.csv', encoding='utf-8', index=False)"
   ]
  }
 ],
 "metadata": {
  "kernelspec": {
   "display_name": "Python 3 (ipykernel)",
   "language": "python",
   "name": "python3"
  },
  "language_info": {
   "codemirror_mode": {
    "name": "ipython",
    "version": 3
   },
   "file_extension": ".py",
   "mimetype": "text/x-python",
   "name": "python",
   "nbconvert_exporter": "python",
   "pygments_lexer": "ipython3",
   "version": "3.9.13"
  }
 },
 "nbformat": 4,
 "nbformat_minor": 5
}
